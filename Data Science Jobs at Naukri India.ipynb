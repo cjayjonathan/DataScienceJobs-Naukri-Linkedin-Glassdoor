{
 "cells": [
  {
   "cell_type": "code",
   "execution_count": 54,
   "id": "a83cbd9f",
   "metadata": {},
   "outputs": [],
   "source": [
    "# Importing relevant libraries\n",
    "import requests\n",
    "from bs4 import BeautifulSoup as soup\n",
    "import openpyxl\n",
    "from openpyxl import load_workbook\n",
    "from openpyxl import Workbook"
   ]
  },
  {
   "cell_type": "code",
   "execution_count": 55,
   "id": "94572836",
   "metadata": {},
   "outputs": [],
   "source": [
    "# I also brought in the excel functions where I expect my output to be loaded into\n",
    "excel = openpyxl.Workbook()\n",
    "sheet = excel.active\n",
    "sheet.title = 'Data Science Jobs on Naukri'\n",
    "sheet.append(['job title', 'company', 'location', 'job url'])"
   ]
  },
  {
   "cell_type": "code",
   "execution_count": 58,
   "id": "6cfce601",
   "metadata": {},
   "outputs": [],
   "source": [
    "\n",
    "# This would enable servers and network peers identify the application, OS and or the version of the requesting browser \n",
    "headers = {'user-agent': 'Mozilla/5.0 (Windows NT 10.0; Win64; x64) AppleWebKit/537.36 (KHTML, like Gecko) Chrome/100.0.4896.127 Safari/537.36 Edg/100.0.1185.39'}\n"
   ]
  },
  {
   "cell_type": "code",
   "execution_count": 60,
   "id": "9a77b20d",
   "metadata": {},
   "outputs": [
    {
     "data": {
      "text/plain": [
       "200"
      ]
     },
     "execution_count": 60,
     "metadata": {},
     "output_type": "execute_result"
    }
   ],
   "source": [
    "html = requests.get('https://www.naukri.com/data-scientist-jobs-in-india', headers = headers)\n",
    "html.status_code\n"
   ]
  },
  {
   "cell_type": "code",
   "execution_count": 61,
   "id": "9f349214",
   "metadata": {},
   "outputs": [
    {
     "data": {
      "text/plain": [
       "<!DOCTYPE html>\n",
       "<html lang=\"en\"> <head> <meta content=\"IE=Edge\" http-equiv=\"X-UA-Compatible\"/> <meta content=\"width=device-width,initial-scale=1.0, maximum-scale=1.0, minimum-scale=1.0, user-scalable=no\" name=\"viewport\"/> <link href=\"//static.naukimg.com\" rel=\"dns-prefetch preconnect\"/> <link href=\"//img.naukimg.com\" rel=\"dns-prefetch preconnect\"/> <link href=\"//logs.naukri.com\" rel=\"dns-prefetch preconnect\"/> <link href=\"//lg.naukri.com\" rel=\"dns-prefetch preconnect\"/> <link href=\"https://www.googletagmanager.com\" rel=\"dns-prefetch\"/> <base href=\"//www.naukri.com\"/> <link href=\"./manifest.json\" rel=\"manifest\"/> <link as=\"style\" href=\"//static.naukimg.com/s/7/109/c/main.c2a67539.min.css\" rel=\"preload\"/> <link as=\"script\" href=\"//static.naukimg.com/s/7/109/j/main.ce7d5ae6.min.js\" rel=\"preload\"/> <script>\n",
       "        window.ipAddress = \"www.naukri.com\";\n",
       "        window.DEBUG = true;\n",
       "        window.appId = 135;\n",
       "                    var isCrawler = false;\n",
       "                            var ucBrowser = false;\n",
       "            </script> <style type=\"text/css\"> .splScrn{ height: 100%; } body{margin:0} .nkIcon { width: 19rem; height:19rem; margin: auto; position: relative; padding-top: 95px; } .nk-text { font-size: 40px; margin-bottom: 60px; text-align: center; font-weight: 700; color:#999; font-family:arial } #circleG { width: 9rem; margin: auto } .circleG { background-color: #2DABE2; float: left; height: 14px; margin: 5px; width: 14px; animation-name: bounce_circleG; -o-animation-name: bounce_circleG; -ms-animation-name: bounce_circleG; -webkit-animation-name: bounce_circleG; -moz-animation-name: bounce_circleG; animation-duration: 1.8s; -o-animation-duration: 1.8s; -ms-animation-duration: 1.8s; -webkit-animation-duration: 1.8s; -moz-animation-duration: 1.8s; animation-iteration-count: infinite; -o-animation-iteration-count: infinite; -ms-animation-iteration-count: infinite; -webkit-animation-iteration-count: infinite; -moz-animation-iteration-count: infinite; animation-direction: normal; -o-animation-direction: normal; -ms-animation-direction: normal; -webkit-animation-direction: normal; -moz-animation-direction: normal; border-radius: 50%; -o-border-radius: 50%; -ms-border-radius: 50%; -webkit-border-radius: 50%; -moz-border-radius: 50% } #root, body, html { height: 100% } #circleG_1 { animation-delay: .45s; -o-animation-delay: .45s; -ms-animation-delay: .45s; -webkit-animation-delay: .45s; -moz-animation-delay: .45s } #circleG_2 { animation-delay: .65s; -o-animation-delay: .65s; -ms-animation-delay: .65s; -webkit-animation-delay: .65s; -moz-animation-delay: .65s } #circleG_3 { animation-delay: .85s; -o-animation-delay: .85s; -ms-animation-delay: .85s; -webkit-animation-delay: .85s; -moz-animation-delay: .85s } #circleG_4 { animation-delay: 1.05s; -o-animation-delay: 1.05s; -ms-animation-delay: 1.05s; -webkit-animation-delay: 1.05s; -moz-animation-delay: 1.05s } #circleG_5 { animation-delay: 1.25s; -o-animation-delay: 1.25s; -ms-animation-delay: 1.25s; -webkit-animation-delay: 1.25s; -moz-animation-delay: 1.25s } @keyframes bounce_circleG { 50% { width: 10px; height: 10px; margin: 7px; background-color: rgba(12, 109, 182, 0) } } </style> <script>bazadebezolkohpepadr=\"2129633929\"</script><script defer=\"\" src=\"https://www.naukri.com/akam/13/7eefa076\" type=\"text/javascript\"></script></head> <body> <noscript> <iframe height=\"0\" src=\"https://www.googletagmanager.com/ns.html?id=GTM-NX744H\" style=\"display:none;visibility:hidden\" width=\"0\"></iframe> </noscript> <div id=\"root\"> <div class=\"splScrn\"> <div class=\"row top\"> <div class=\"nkIcon\"><svg viewbox=\"0 0 315 315\" xmlns=\"http://www.w3.org/2000/svg\"><style type=\"text/css\"> .st0{fill:#2DABE2;} .st1{fill:#0C6DB6;} .st2{fill:#EC2227;} .st3{fill:#444444;} .st4{fill-rule:evenodd;clip-rule:evenodd;fill:#EC2227;} .st5{fill-rule:evenodd;clip-rule:evenodd;fill:#0C6DB6;} </style><path class=\"st0\" d=\"M0 200.8h10v4.6c1.5-1.9 3-3.2 4.5-4 1.5-0.8 3.4-1.2 5.6-1.2 3 0 5.3 0.9 7 2.7 1.7 1.8 2.5 4.5 2.5 8.2v17.8H18.8v-15.4c0-1.8-0.3-3-1-3.7 -0.7-0.7-1.6-1.1-2.7-1.1 -1.3 0-2.4 0.5-3.2 1.5 -0.8 1-1.2 2.8-1.2 5.3v13.4H0V200.8z\"></path><path class=\"st0\" d=\"M45.8 209.9l-10.3-1.1c0.4-1.8 0.9-3.2 1.7-4.2 0.7-1 1.8-1.9 3.2-2.7 1-0.5 2.3-1 4.1-1.3 1.7-0.3 3.6-0.4 5.6-0.4 3.2 0 5.8 0.2 7.8 0.5 2 0.4 3.6 1.1 4.9 2.3 0.9 0.8 1.6 1.9 2.2 3.4 0.5 1.5 0.8 2.8 0.8 4.2v12.4c0 1.3 0.1 2.4 0.3 3.1 0.2 0.7 0.5 1.7 1.1 2.9H56.9c-0.4-0.7-0.7-1.3-0.8-1.6 -0.1-0.4-0.2-1-0.4-1.8 -1.4 1.4-2.8 2.3-4.2 2.9 -1.9 0.8-4.1 1.2-6.6 1.2 -3.3 0-5.9-0.8-7.6-2.3 -1.7-1.5-2.6-3.5-2.6-5.7 0-2.1 0.6-3.9 1.9-5.2 1.2-1.4 3.6-2.4 6.9-3.1 4-0.8 6.6-1.4 7.8-1.7 1.2-0.3 2.5-0.8 3.8-1.3 0-1.3-0.3-2.2-0.8-2.8 -0.5-0.5-1.5-0.8-2.9-0.8 -1.8 0-3.1 0.3-4 0.8C46.8 207.8 46.2 208.6 45.8 209.9zM55.1 215.5c-1.5 0.5-3 1-4.6 1.4 -2.2 0.6-3.6 1.2-4.1 1.7 -0.6 0.6-0.9 1.2-0.9 2 0 0.8 0.3 1.5 0.9 2.1 0.6 0.5 1.5 0.8 2.6 0.8 1.2 0 2.3-0.3 3.3-0.9 1-0.6 1.8-1.3 2.2-2.1 0.4-0.8 0.6-1.9 0.6-3.3V215.5z\"></path><path class=\"st0\" d=\"M101.6 228.8h-10v-4.5c-1.5 1.9-3 3.2-4.5 4 -1.5 0.8-3.4 1.2-5.6 1.2 -3 0-5.3-0.9-6.9-2.7 -1.7-1.8-2.5-4.5-2.5-8.2v-17.8h10.8v15.4c0 1.8 0.3 3 1 3.7 0.7 0.7 1.6 1.1 2.7 1.1 1.3 0 2.3-0.5 3.2-1.5 0.8-1 1.2-2.8 1.2-5.3v-13.5h10.7V228.8z\"></path><path class=\"st0\" d=\"M108.1 190.1h11v20l8-9.3h13.2l-10 9.8 10.6 18.2h-12.1l-5.7-11.2 -4 3.9v7.3h-11V190.1z\"></path><path class=\"st0\" d=\"M144.2 200.8h10v4.6c1-2 2-3.4 3-4.1 1-0.7 2.3-1.1 3.8-1.1 1.6 0 3.3 0.5 5.2 1.5l-3.3 7.6c-1.3-0.5-2.3-0.8-3-0.8 -1.4 0-2.5 0.6-3.3 1.7 -1.1 1.6-1.7 4.7-1.7 9.2v9.4h-10.8V200.8z\"></path><path class=\"st0\" d=\"M168.5 190.1h10.7v7.3h-10.7V190.1zM168.5 200.8h10.7v28h-10.7V200.8z\"></path><path class=\"st1\" d=\"M216.1 217.8l10.2 1.2c-0.6 2.1-1.5 4-2.8 5.5 -1.3 1.6-2.9 2.8-4.9 3.6 -2 0.9-4.5 1.3-7.6 1.3 -3 0-5.4-0.3-7.4-0.8 -2-0.6-3.7-1.4-5.1-2.7 -1.4-1.2-2.5-2.7-3.3-4.4 -0.8-1.7-1.2-3.9-1.2-6.6 0-2.9 0.5-5.3 1.5-7.2 0.7-1.4 1.7-2.7 3-3.8 1.2-1.1 2.5-1.9 3.9-2.5 2.1-0.9 4.8-1.3 8-1.3 4.6 0 8.1 0.8 10.5 2.5 2.4 1.6 4.1 4 5.1 7.2l-10.1 1.3c-0.3-1.2-0.9-2.1-1.7-2.7 -0.8-0.6-2-0.9-3.4-0.9 -1.8 0-3.2 0.6-4.3 1.9 -1.1 1.3-1.6 3.2-1.6 5.8 0 2.3 0.5 4 1.6 5.2 1.1 1.2 2.5 1.8 4.2 1.8 1.4 0 2.6-0.4 3.5-1.1C214.9 220.4 215.7 219.3 216.1 217.8z\"></path><path class=\"st1\" d=\"M230 214.9c0-4.3 1.4-7.8 4.3-10.6 2.9-2.8 6.8-4.2 11.7-4.2 5.6 0 9.8 1.6 12.7 4.9 2.3 2.6 3.5 5.8 3.5 9.7 0 4.3-1.4 7.8-4.3 10.6 -2.9 2.8-6.8 4.1-11.9 4.1 -4.5 0-8.1-1.1-10.9-3.4C231.7 223.2 230 219.5 230 214.9zM240.7 214.8c0 2.5 0.5 4.3 1.5 5.5 1 1.2 2.3 1.8 3.8 1.8 1.5 0 2.8-0.6 3.8-1.8 1-1.2 1.5-3.1 1.5-5.7 0-2.4-0.5-4.2-1.5-5.4 -1-1.2-2.2-1.8-3.7-1.8 -1.6 0-2.9 0.6-3.9 1.8C241.2 210.5 240.7 212.4 240.7 214.8z\"></path><path class=\"st1\" d=\"M267.4 200.8h10v4.1c1.4-1.7 2.9-2.9 4.4-3.6 1.5-0.7 3.2-1.1 5.3-1.1 2.2 0 4 0.4 5.3 1.2 1.3 0.8 2.4 2 3.2 3.5 1.7-1.8 3.2-3.1 4.6-3.7 1.4-0.7 3.1-1 5.1-1 3 0 5.3 0.9 7 2.7 1.7 1.8 2.5 4.6 2.5 8.4v17.6h-10.8v-16c0-1.3-0.2-2.2-0.7-2.8 -0.7-1-1.6-1.4-2.7-1.4 -1.3 0-2.3 0.5-3 1.4 -0.8 0.9-1.2 2.4-1.2 4.4v14.5h-10.8v-15.4c0-1.2-0.1-2.1-0.2-2.5 -0.2-0.7-0.6-1.3-1.2-1.7 -0.6-0.4-1.2-0.6-2-0.6 -1.2 0-2.3 0.5-3 1.4 -0.8 0.9-1.2 2.5-1.2 4.6v14.3h-10.8V200.8z\"></path><circle class=\"st2\" cx=\"187.7\" cy=\"224.2\" r=\"4.6\"></circle><path class=\"st3\" d=\"M163.1 251.5v-11.3h2.3v11.3H163.1z\"></path><path class=\"st3\" d=\"M175 251.5h-2.2v-4.2c0-0.9 0-1.5-0.1-1.7 -0.1-0.3-0.2-0.5-0.4-0.6 -0.2-0.1-0.5-0.2-0.8-0.2 -0.4 0-0.7 0.1-1 0.3 -0.3 0.2-0.5 0.5-0.6 0.8 -0.1 0.3-0.2 1-0.2 1.9v3.7h-2.2v-8.2h2v1.2c0.7-0.9 1.6-1.4 2.7-1.4 0.5 0 0.9 0.1 1.3 0.3 0.4 0.2 0.7 0.4 0.9 0.7 0.2 0.3 0.3 0.6 0.4 0.9 0.1 0.3 0.1 0.8 0.1 1.5V251.5z\"></path><path class=\"st3\" d=\"M184.7 251.5h-2v-1.2c-0.3 0.5-0.7 0.8-1.2 1 -0.5 0.2-0.9 0.3-1.4 0.3 -0.9 0-1.7-0.4-2.4-1.1 -0.7-0.8-1-1.8-1-3.2 0-1.4 0.3-2.4 1-3.2 0.7-0.7 1.5-1.1 2.5-1.1 0.9 0 1.7 0.4 2.4 1.1v-4.1h2.2V251.5zM178.9 247.2c0 0.9 0.1 1.5 0.4 1.9 0.3 0.6 0.8 0.8 1.5 0.8 0.5 0 0.9-0.2 1.3-0.6 0.4-0.4 0.5-1.1 0.5-1.9 0-0.9-0.2-1.6-0.5-2 -0.3-0.4-0.8-0.6-1.3-0.6 -0.5 0-0.9 0.2-1.3 0.6C179.1 245.8 178.9 246.4 178.9 247.2z\"></path><path class=\"st3\" d=\"M186.8 242.2v-2h2.2v2H186.8zM186.8 251.5v-8.2h2.2v8.2H186.8z\"></path><path class=\"st3\" d=\"M192.8 245.8l-2-0.4c0.2-0.8 0.6-1.4 1.1-1.8 0.5-0.4 1.3-0.6 2.4-0.6 1 0 1.7 0.1 2.2 0.3 0.5 0.2 0.8 0.5 1 0.9 0.2 0.4 0.3 1 0.3 1.9l0 2.5c0 0.7 0 1.2 0.1 1.6 0.1 0.3 0.2 0.7 0.4 1.1h-2.1c-0.1-0.1-0.1-0.4-0.2-0.6 0-0.1-0.1-0.2-0.1-0.3 -0.4 0.4-0.8 0.6-1.2 0.8 -0.4 0.2-0.9 0.3-1.3 0.3 -0.8 0-1.5-0.2-2-0.7 -0.5-0.5-0.7-1-0.7-1.7 0-0.5 0.1-0.9 0.3-1.2 0.2-0.4 0.5-0.6 0.9-0.8 0.4-0.2 1-0.4 1.7-0.5 1-0.2 1.7-0.4 2.1-0.5v-0.2c0-0.4-0.1-0.7-0.3-0.9 -0.2-0.2-0.6-0.3-1.2-0.3 -0.4 0-0.7 0.1-0.9 0.2C193.1 245.1 193 245.4 192.8 245.8zM195.7 247.5c-0.3 0.1-0.7 0.2-1.3 0.3 -0.6 0.1-1 0.3-1.2 0.4 -0.3 0.2-0.4 0.5-0.4 0.8 0 0.3 0.1 0.6 0.3 0.8 0.2 0.2 0.5 0.3 0.9 0.3 0.4 0 0.8-0.1 1.1-0.4 0.3-0.2 0.4-0.4 0.5-0.7 0.1-0.2 0.1-0.5 0.1-1.1V247.5z\"></path><path class=\"st3\" d=\"M199.9 240.2h2.2v1.5c0 0.6-0.1 1.1-0.2 1.5 -0.1 0.4-0.3 0.7-0.6 1 -0.3 0.3-0.7 0.5-1.1 0.7l-0.4-0.9c0.4-0.1 0.7-0.3 0.9-0.6 0.2-0.3 0.3-0.6 0.3-1h-1V240.2z\"></path><path class=\"st3\" d=\"M203 249.1l2.2-0.3c0.1 0.4 0.3 0.7 0.6 1 0.3 0.2 0.7 0.3 1.2 0.3 0.6 0 1-0.1 1.3-0.3 0.2-0.1 0.3-0.3 0.3-0.6 0-0.2-0.1-0.3-0.2-0.4 -0.1-0.1-0.3-0.2-0.7-0.3 -1.7-0.4-2.8-0.7-3.3-1.1 -0.6-0.4-1-1.1-1-1.8 0-0.7 0.3-1.3 0.8-1.8 0.6-0.5 1.4-0.7 2.6-0.7 1.1 0 1.9 0.2 2.5 0.5 0.5 0.4 0.9 0.9 1.1 1.6l-2 0.4c-0.1-0.3-0.3-0.6-0.5-0.7 -0.2-0.2-0.6-0.3-1-0.3 -0.6 0-1 0.1-1.2 0.2 -0.2 0.1-0.2 0.3-0.2 0.4 0 0.2 0.1 0.3 0.2 0.4 0.2 0.1 0.9 0.3 2 0.6 1.2 0.3 2 0.6 2.4 1 0.5 0.4 0.7 0.9 0.7 1.6 0 0.8-0.3 1.4-0.9 1.9 -0.6 0.5-1.6 0.8-2.8 0.8 -1.1 0-2-0.2-2.6-0.7C203.6 250.5 203.2 249.9 203 249.1z\"></path><path class=\"st3\" d=\"M216.9 251.5v-11.3h2.2l4.6 7.5v-7.5h2.1v11.3h-2.3l-4.5-7.4v7.4H216.9z\"></path><path class=\"st3\" d=\"M227.8 247.3c0-0.7 0.2-1.4 0.5-2.1 0.4-0.7 0.9-1.2 1.5-1.5 0.6-0.4 1.4-0.5 2.2-0.5 1.2 0 2.2 0.4 3 1.2 0.8 0.8 1.2 1.8 1.2 3 0 1.2-0.4 2.3-1.2 3.1 -0.8 0.8-1.8 1.2-3 1.2 -0.7 0-1.5-0.2-2.1-0.5 -0.7-0.3-1.2-0.8-1.6-1.5C228 249 227.8 248.2 227.8 247.3zM230 247.4c0 0.8 0.2 1.4 0.6 1.9 0.4 0.4 0.9 0.6 1.4 0.6 0.6 0 1-0.2 1.4-0.6 0.4-0.4 0.6-1.1 0.6-1.9 0-0.8-0.2-1.4-0.6-1.8 -0.4-0.4-0.9-0.6-1.4-0.6 -0.6 0-1 0.2-1.4 0.6C230.2 245.9 230 246.6 230 247.4z\"></path><path class=\"st3\" d=\"M237.9 251.5v-2.2h2.2v2.2H237.9z\"></path><path class=\"st3\" d=\"M247.4 251.5h-2.2v-8.2c-0.8 0.7-1.7 1.3-2.8 1.6v-2c0.6-0.2 1.2-0.5 1.8-1.1 0.7-0.5 1.1-1.1 1.4-1.8h1.8V251.5z\"></path><path class=\"st3\" d=\"M259.5 240.2h2.3v7.1c0 0.9-0.1 1.7-0.2 2.2 -0.2 0.7-0.6 1.2-1.2 1.6 -0.6 0.4-1.3 0.6-2.3 0.6 -1.1 0-2-0.3-2.6-0.9 -0.6-0.6-0.9-1.5-0.9-2.7l2.1-0.2c0 0.6 0.1 1.1 0.3 1.4 0.2 0.4 0.6 0.6 1.1 0.6 0.5 0 0.9-0.1 1.1-0.4 0.2-0.3 0.3-0.9 0.3-1.8V240.2z\"></path><path class=\"st3\" d=\"M263.7 247.3c0-0.7 0.2-1.4 0.5-2.1 0.4-0.7 0.9-1.2 1.5-1.5 0.6-0.4 1.4-0.5 2.2-0.5 1.2 0 2.2 0.4 3 1.2 0.8 0.8 1.2 1.8 1.2 3 0 1.2-0.4 2.3-1.2 3.1 -0.8 0.8-1.8 1.2-3 1.2 -0.7 0-1.5-0.2-2.1-0.5 -0.7-0.3-1.2-0.8-1.6-1.5C263.9 249 263.7 248.2 263.7 247.3zM265.9 247.4c0 0.8 0.2 1.4 0.6 1.9 0.4 0.4 0.9 0.6 1.4 0.6 0.6 0 1-0.2 1.4-0.6 0.4-0.4 0.6-1.1 0.6-1.9 0-0.8-0.2-1.4-0.6-1.8 -0.4-0.4-0.9-0.6-1.4-0.6 -0.6 0-1 0.2-1.4 0.6C266.1 245.9 265.9 246.6 265.9 247.4z\"></path><path class=\"st3\" d=\"M273.7 251.5v-11.3h2.2v4.1c0.7-0.8 1.5-1.1 2.4-1.1 1 0 1.8 0.4 2.5 1.1 0.7 0.7 1 1.8 1 3.1 0 1.4-0.3 2.5-1 3.2 -0.7 0.8-1.5 1.1-2.4 1.1 -0.5 0-0.9-0.1-1.4-0.3 -0.5-0.2-0.8-0.6-1.2-1v1.2H273.7zM275.9 247.2c0 0.8 0.1 1.5 0.4 1.9 0.4 0.6 0.9 0.9 1.5 0.9 0.5 0 0.9-0.2 1.2-0.6 0.3-0.4 0.5-1 0.5-1.9 0-0.9-0.2-1.6-0.5-2 -0.3-0.4-0.8-0.6-1.3-0.6 -0.5 0-0.9 0.2-1.3 0.6C276.1 245.8 275.9 246.4 275.9 247.2z\"></path><path class=\"st3\" d=\"M287.3 247.8l2.2-0.2c0.1 0.7 0.4 1.3 0.8 1.6 0.4 0.4 1 0.5 1.6 0.5 0.7 0 1.3-0.2 1.7-0.5 0.4-0.3 0.6-0.7 0.6-1.1 0-0.3-0.1-0.5-0.2-0.7 -0.2-0.2-0.4-0.3-0.8-0.5 -0.3-0.1-0.9-0.3-1.8-0.5 -1.2-0.3-2.1-0.7-2.6-1.1 -0.7-0.6-1-1.4-1-2.3 0-0.6 0.2-1.1 0.5-1.6 0.3-0.5 0.8-0.9 1.4-1.1 0.6-0.3 1.4-0.4 2.2-0.4 1.4 0 2.5 0.3 3.2 0.9 0.7 0.6 1.1 1.4 1.1 2.5l-2.3 0.1c-0.1-0.6-0.3-1-0.6-1.3 -0.3-0.3-0.8-0.4-1.4-0.4 -0.7 0-1.2 0.1-1.6 0.4 -0.2 0.2-0.4 0.4-0.4 0.7 0 0.3 0.1 0.5 0.3 0.7 0.3 0.2 1 0.5 2.1 0.8 1.1 0.3 1.9 0.5 2.5 0.8 0.5 0.3 0.9 0.7 1.2 1.1 0.3 0.5 0.5 1.1 0.5 1.8 0 0.6-0.2 1.3-0.5 1.8 -0.4 0.6-0.9 1-1.5 1.3 -0.7 0.3-1.5 0.4-2.5 0.4 -1.4 0-2.5-0.3-3.3-1C287.9 250 287.4 249.1 287.3 247.8z\"></path><path class=\"st3\" d=\"M298.4 242.2v-2h2.2v2H298.4zM298.4 251.5v-8.2h2.2v8.2H298.4z\"></path><path class=\"st3\" d=\"M306.5 243.3v1.7H305v3.3c0 0.7 0 1.1 0 1.2 0 0.1 0.1 0.2 0.2 0.3 0.1 0.1 0.2 0.1 0.4 0.1 0.2 0 0.5-0.1 0.9-0.2l0.2 1.7c-0.5 0.2-1.1 0.3-1.7 0.3 -0.4 0-0.7-0.1-1.1-0.2 -0.3-0.1-0.5-0.3-0.7-0.5 -0.1-0.2-0.2-0.5-0.3-0.8 0-0.3-0.1-0.8-0.1-1.5V245h-1v-1.7h1v-1.6l2.2-1.3v2.9H306.5z\"></path><path class=\"st3\" d=\"M312.7 248.9l2.2 0.4c-0.3 0.8-0.7 1.4-1.3 1.8 -0.6 0.4-1.3 0.6-2.2 0.6 -1.4 0-2.5-0.5-3.2-1.4 -0.5-0.7-0.8-1.7-0.8-2.8 0-1.4 0.4-2.4 1.1-3.2 0.7-0.8 1.6-1.2 2.7-1.2 1.2 0 2.2 0.4 2.9 1.2 0.7 0.8 1 2 1 3.7h-5.4c0 0.6 0.2 1.1 0.5 1.5 0.3 0.4 0.7 0.5 1.2 0.5 0.3 0 0.6-0.1 0.9-0.3C312.4 249.6 312.6 249.3 312.7 248.9zM312.8 246.7c0-0.6-0.2-1.1-0.5-1.4 -0.3-0.3-0.7-0.5-1.1-0.5 -0.5 0-0.9 0.2-1.2 0.5 -0.3 0.3-0.5 0.8-0.5 1.4H312.8z\"></path><path class=\"st4\" d=\"M129.9 64c-0.5 0.7-1 1.4-1.5 2.2 1.5 0 2.3-0.8 3.6-1 0.7 1.2-1.4 1.4-1.4 2.7 1.4 0.1 2.9-1.6 3.6-0.5 0.3 1-1.8 1.6-2.2 2.7 0.4 0.2 2.5-0.1 3.6 0 2.1 6.7-3.5 11.9-8.9 12.3 -8.5 0.7-15.6-8-9.9-15.2C119.2 64.2 124.5 62.2 129.9 64z\"></path><path class=\"st5\" d=\"M200.2 165.1c-0.3 0.8-2.1 0.2-3.1 0 -7-1.5-15.1-3.9-22-6 -15.9-5-30.8-11.1-42.5-21.3 -6.2-5.4-12.5-13.3-11.6-24.7 0.2-2.6 1.2-4.7 1.7-7 0.4-2 0.3-3.7 0.7-5.3 2.6-10.2 10.4-18.1 18.4-23.9 9.1-6.7 20.5-13 35.1-12.6 -3.5 2.3-7.6 4-10.9 6.5 4.4-0.9 10-2.2 15-1 -12.5 6.7-25.2 13.2-32.9 25.6 -2.4 3.8-5 9.8-4.4 15 0.3 2.8 2.2 6 3.9 8.7 10.8 17.9 29.8 28.3 49.6 37 -8.7-1.3-17.5-4.6-25.9-7 -0.2 0-0.2-0.2-0.5-0.2 7.5 5.5 16.3 10.7 25.6 14.5C197.6 163.9 199.3 163.9 200.2 165.1zM163 72.7c-1.3 0.4-2.6 1.9-3.9 2.9 -7.4 5.9-15.7 14.4-16.4 25.9 -0.1 1.4-0.3 2.9 0.5 4.3 1.5-9.9 7.4-16 13.3-21.5 6-5.6 13.6-9.8 21-14C172.2 70.2 167.1 71.4 163 72.7zM133 136.8c14.9 13.1 38.8 20.7 59.2 26.1 0.4 0.1 0.6-0.3 0-0.2 -6.8-3.3-13.8-7.1-19.8-11.1 -2.1-1.4-4-3.3-6-4.3 -1.1-0.6-2.7-0.7-3.9-1.2 -3.6-1.5-6.9-3.2-10.4-4.8 -13.6-6.6-26.1-14.7-29.7-31.4C120.1 122.5 126.3 130.9 133 136.8z\"></path></svg></div> </div> <div class=\"nk-text\">Explore 5 lakh+ jobs on India's number 1 job site</div> <div id=\"circleG\"> <div class=\"circleG\" id=\"circleG_1\"></div> <div class=\"circleG\" id=\"circleG_2\"></div> <div class=\"circleG\" id=\"circleG_3\"></div> <div class=\"circleG\" id=\"circleG_4\"></div> <div class=\"circleG\" id=\"circleG_5\"></div> </div> </div> </div> <link href=\"//static.naukimg.com/s/7/109/c/main.c2a67539.min.css\" media=\"all\" rel=\"stylesheet\" type=\"text/css\"/> <script id=\"ubScript\"> (function() { var queuedSuperProps = []; var queuedEvents = []; window.ub = { track: function(eventName, eventProps) { queuedEvents.push([eventName, eventProps]) }, register: function(properties) { queuedSuperProps.push(properties); } };\n",
       "            var script = document.createElement(\"script\"); script.async = true;script.trackTdsCookie=true,script.fingerprint=false,script.src = \"//static.naukri.com/s/0/1/j/ub_v1.13.min.js\";script.onload = function() { ub.init({\n",
       "                   trackTdsCookie : true, beaconUrl : \"https://logs.naukri.com/uba\", bulkBeaconUrl : \"https://logs.naukri.com/collectorapi/v1/uba/bulk\", queuedEvents:queuedEvents, queuedSuperProps:queuedSuperProps,  tenantId:'1' ,   subclientTenantId:'0' , autoTrack:false, blackList: \n",
       "                []\n",
       "            }); };document.head.appendChild(script);}()); ub.register({ appId:109, pageName: \"jobsearch\",  tenantId:'1' ,  subclientTenantId:'0' , }); </script> <script>\n",
       "    //hack of IE and safari bug : Super expression must either be null or a function, not undefined\n",
       "    if (typeof HTMLElement !== 'function') {\n",
       "        var _HTMLElement = function() {};\n",
       "        _HTMLElement.prototype = HTMLElement.prototype;\n",
       "        HTMLElement = _HTMLElement;\n",
       "    }\n",
       "    </script> <script defer=\"\" src=\"//static.naukimg.com/s/7/109/j/vendors~main.d2fc58ec.min.js\" type=\"text/javascript\"></script> <script defer=\"\" src=\"//static.naukimg.com/s/7/109/j/main.ce7d5ae6.min.js\" type=\"text/javascript\"></script> <script src=\"//static.naukimg.com/s/0/0/j/nLoggerJB_v3.0.min.js\" type=\"text/javascript\"></script> <script type=\"text/javascript\">\n",
       "   window.nLogger && nLogger.init({ \"tag\": \"revamped_srp\", \"nLogger\": { \"beaconUrl\": \"https:\\/\\/lg.naukri.com\\/uba\", \"eventName\": \"newMonkError\", \"deviceType\": \"SERVER\" }, \"boomerang\": { \"logBW\": false, \"beaconUrl\": \"https:\\/\\/lg.naukri.com\\/uba\", \"imageURL\": \"\\/\\/static.naukimg.com\\/s\\/0\\/0\\/i\\/\", \"eventName\": \"newMonkPerformance\", \"deviceType\": \"SERVER\" }, \"tenantId\": 1, \"appId\": 109, \"userIP\": \"2045974146\" });\n",
       " </script> <script type=\"text/javascript\">\n",
       "    (function(w, d, s, l, i) {\n",
       "        w[l] = w[l] || [];\n",
       "        w[l].push({\n",
       "            'gtm.start': new Date().getTime(),\n",
       "            event: 'gtm.js'\n",
       "        });\n",
       "        var f = d.getElementsByTagName(s)[0],\n",
       "            j = d.createElement(s),\n",
       "            dl = l != 'dataLayer' ? '&l=' + l : '';\n",
       "        j.defer = 'defer';\n",
       "        j.src =\n",
       "            'https://www.googletagmanager.com/gtm.js?id=' + i + dl;\n",
       "        f.parentNode.insertBefore(j, f);\n",
       "    })(window, document, 'script', 'dataLayer', 'GTM-NX744H');\n",
       "    </script> <script defer=\"\" src=\"https://www.googletagservices.com/tag/js/gpt.js\"></script> <script>\n",
       "        var googletag = googletag || {};\n",
       "        googletag.cmd = googletag.cmd || [];  \n",
       "    </script> <noscript><img src=\"https://www.naukri.com/akam/13/pixel_7eefa076?a=dD1mNjljYjNlNTYyNWFmZTg4ZjY4YjlkMThjNjI1NWI1ZDEwNjRhYWU3JmpzPW9mZg==\" style=\"visibility: hidden; position: absolute; left: -999px; top: -999px;\"/></noscript><script src=\"/WigCVDiYe/8cNtbUO/s-ci5jT/VQXI/LYpicNS4N1YS/CW89H103/WXY/eMkhHWXc\" type=\"text/javascript\"></script></body> </html>"
      ]
     },
     "execution_count": 61,
     "metadata": {},
     "output_type": "execute_result"
    }
   ],
   "source": [
    "# bsobj represents the entire html web pages for parsing while the lxml allows for easy handling of XML and http files\n",
    "bsobj = soup(html.content,'lxml')\n",
    "bsobj\n"
   ]
  },
  {
   "cell_type": "code",
   "execution_count": 62,
   "id": "a62015ad",
   "metadata": {},
   "outputs": [],
   "source": [
    "url_list = []\n",
    "for i in range (1,15):\n",
    "    url = 'https://www.naukri.com/data-scientist-jobs-in-india?p='+str(i)\n"
   ]
  },
  {
   "cell_type": "code",
   "execution_count": 69,
   "id": "fd1d38b0",
   "metadata": {},
   "outputs": [
    {
     "name": "stdout",
     "output_type": "stream",
     "text": [
      "[]\n"
     ]
    }
   ],
   "source": [
    "job_title = []\n",
    "for title in bsobj.findAll('string (//div', 'span', 'ul', 'li[@title]',{'class':'jobContainer'}):\n",
    "    job_title.append(title.findAll('a')[1].text.strip())\n",
    "    \n",
    "job_title\n",
    "print(job_title)\n",
    "\n"
   ]
  },
  {
   "cell_type": "code",
   "execution_count": 74,
   "id": "587e3ba9",
   "metadata": {},
   "outputs": [
    {
     "name": "stdout",
     "output_type": "stream",
     "text": [
      "[]\n"
     ]
    }
   ],
   "source": [
    "company_name =[]\n",
    "for company in bsobj.findAll('string (//div', 'span', 'span', 'span[@class]',{'class':'jobHeader'}):\n",
    "    company_name.append(company.a.text.strip())\n",
    "    \n",
    "company_name\n",
    "print(company_name)\n"
   ]
  },
  {
   "cell_type": "code",
   "execution_count": 75,
   "id": "1f1dab84",
   "metadata": {},
   "outputs": [
    {
     "name": "stdout",
     "output_type": "stream",
     "text": [
      "[]\n"
     ]
    }
   ],
   "source": [
    "location = []\n",
    "for i in bsobj.findAll('string (//div', 'span', 'span[@class]',{'class':'jobInfoItem empLoc'}):\n",
    "    location.append(i.span.text.strip())\n",
    "    \n",
    "location\n",
    "print(location)\n"
   ]
  },
  {
   "cell_type": "code",
   "execution_count": 77,
   "id": "4f147fec",
   "metadata": {},
   "outputs": [
    {
     "name": "stdout",
     "output_type": "stream",
     "text": [
      "[]\n"
     ]
    }
   ],
   "source": [
    "links = []\n",
    "for i in bsobj.findAll('string (//di/@data-url'):\n",
    "    link = 'https://www.naukri.com'+ i.a['href']\n",
    "    links.append(link)\n",
    "    \n",
    "links\n",
    "print(links)\n",
    "\n"
   ]
  },
  {
   "cell_type": "code",
   "execution_count": 78,
   "id": "7c264e50",
   "metadata": {},
   "outputs": [],
   "source": [
    "description = []\n",
    "\n",
    "for link in links:\n",
    "    page = requests.get(link,headers=headers)\n",
    "    bs = soup(page.content,'lxml')\n",
    "    for job in bs.findAll('div',{'id':'JobDescriptionContainer'})[0]:\n",
    "        description.append(job.text.strip())"
   ]
  },
  {
   "cell_type": "code",
   "execution_count": 79,
   "id": "cf349275",
   "metadata": {},
   "outputs": [
    {
     "ename": "ValueError",
     "evalue": "Cannot convert [] to Excel",
     "output_type": "error",
     "traceback": [
      "\u001b[1;31m---------------------------------------------------------------------------\u001b[0m",
      "\u001b[1;31mValueError\u001b[0m                                Traceback (most recent call last)",
      "\u001b[1;32mC:\\Users\\ALH~1.YAH\\AppData\\Local\\Temp/ipykernel_8808/271870036.py\u001b[0m in \u001b[0;36m<module>\u001b[1;34m\u001b[0m\n\u001b[1;32m----> 1\u001b[1;33m \u001b[0msheet\u001b[0m\u001b[1;33m.\u001b[0m\u001b[0mappend\u001b[0m\u001b[1;33m(\u001b[0m\u001b[1;33m[\u001b[0m\u001b[0mjob_title\u001b[0m\u001b[1;33m,\u001b[0m \u001b[0mcompany_name\u001b[0m\u001b[1;33m,\u001b[0m \u001b[0mlocation\u001b[0m\u001b[1;33m,\u001b[0m \u001b[0mlinks\u001b[0m\u001b[1;33m]\u001b[0m\u001b[1;33m)\u001b[0m\u001b[1;33m\u001b[0m\u001b[1;33m\u001b[0m\u001b[0m\n\u001b[0m\u001b[0;32m      2\u001b[0m \u001b[0mexcel\u001b[0m\u001b[1;33m.\u001b[0m\u001b[0msave\u001b[0m\u001b[1;33m(\u001b[0m\u001b[1;34m'Data Science Jobs on Naukri.xlsx'\u001b[0m\u001b[1;33m)\u001b[0m\u001b[1;33m\u001b[0m\u001b[1;33m\u001b[0m\u001b[0m\n\u001b[0;32m      3\u001b[0m \u001b[0mexport\u001b[0m\u001b[1;33m(\u001b[0m\u001b[0mexcel\u001b[0m\u001b[1;33m.\u001b[0m\u001b[0msave\u001b[0m\u001b[1;33m)\u001b[0m\u001b[1;33m\u001b[0m\u001b[1;33m\u001b[0m\u001b[0m\n",
      "\u001b[1;32mC:\\ProgramData\\Anaconda3\\lib\\site-packages\\openpyxl\\worksheet\\worksheet.py\u001b[0m in \u001b[0;36mappend\u001b[1;34m(self, iterable)\u001b[0m\n\u001b[0;32m    663\u001b[0m                     \u001b[0mcell\u001b[0m\u001b[1;33m.\u001b[0m\u001b[0mrow\u001b[0m \u001b[1;33m=\u001b[0m \u001b[0mrow_idx\u001b[0m\u001b[1;33m\u001b[0m\u001b[1;33m\u001b[0m\u001b[0m\n\u001b[0;32m    664\u001b[0m                 \u001b[1;32melse\u001b[0m\u001b[1;33m:\u001b[0m\u001b[1;33m\u001b[0m\u001b[1;33m\u001b[0m\u001b[0m\n\u001b[1;32m--> 665\u001b[1;33m                     \u001b[0mcell\u001b[0m \u001b[1;33m=\u001b[0m \u001b[0mCell\u001b[0m\u001b[1;33m(\u001b[0m\u001b[0mself\u001b[0m\u001b[1;33m,\u001b[0m \u001b[0mrow\u001b[0m\u001b[1;33m=\u001b[0m\u001b[0mrow_idx\u001b[0m\u001b[1;33m,\u001b[0m \u001b[0mcolumn\u001b[0m\u001b[1;33m=\u001b[0m\u001b[0mcol_idx\u001b[0m\u001b[1;33m,\u001b[0m \u001b[0mvalue\u001b[0m\u001b[1;33m=\u001b[0m\u001b[0mcontent\u001b[0m\u001b[1;33m)\u001b[0m\u001b[1;33m\u001b[0m\u001b[1;33m\u001b[0m\u001b[0m\n\u001b[0m\u001b[0;32m    666\u001b[0m                 \u001b[0mself\u001b[0m\u001b[1;33m.\u001b[0m\u001b[0m_cells\u001b[0m\u001b[1;33m[\u001b[0m\u001b[1;33m(\u001b[0m\u001b[0mrow_idx\u001b[0m\u001b[1;33m,\u001b[0m \u001b[0mcol_idx\u001b[0m\u001b[1;33m)\u001b[0m\u001b[1;33m]\u001b[0m \u001b[1;33m=\u001b[0m \u001b[0mcell\u001b[0m\u001b[1;33m\u001b[0m\u001b[1;33m\u001b[0m\u001b[0m\n\u001b[0;32m    667\u001b[0m \u001b[1;33m\u001b[0m\u001b[0m\n",
      "\u001b[1;32mC:\\ProgramData\\Anaconda3\\lib\\site-packages\\openpyxl\\cell\\cell.py\u001b[0m in \u001b[0;36m__init__\u001b[1;34m(self, worksheet, row, column, value, style_array)\u001b[0m\n\u001b[0;32m    114\u001b[0m         \u001b[0mself\u001b[0m\u001b[1;33m.\u001b[0m\u001b[0mdata_type\u001b[0m \u001b[1;33m=\u001b[0m \u001b[1;34m'n'\u001b[0m\u001b[1;33m\u001b[0m\u001b[1;33m\u001b[0m\u001b[0m\n\u001b[0;32m    115\u001b[0m         \u001b[1;32mif\u001b[0m \u001b[0mvalue\u001b[0m \u001b[1;32mis\u001b[0m \u001b[1;32mnot\u001b[0m \u001b[1;32mNone\u001b[0m\u001b[1;33m:\u001b[0m\u001b[1;33m\u001b[0m\u001b[1;33m\u001b[0m\u001b[0m\n\u001b[1;32m--> 116\u001b[1;33m             \u001b[0mself\u001b[0m\u001b[1;33m.\u001b[0m\u001b[0mvalue\u001b[0m \u001b[1;33m=\u001b[0m \u001b[0mvalue\u001b[0m\u001b[1;33m\u001b[0m\u001b[1;33m\u001b[0m\u001b[0m\n\u001b[0m\u001b[0;32m    117\u001b[0m         \u001b[0mself\u001b[0m\u001b[1;33m.\u001b[0m\u001b[0m_comment\u001b[0m \u001b[1;33m=\u001b[0m \u001b[1;32mNone\u001b[0m\u001b[1;33m\u001b[0m\u001b[1;33m\u001b[0m\u001b[0m\n\u001b[0;32m    118\u001b[0m \u001b[1;33m\u001b[0m\u001b[0m\n",
      "\u001b[1;32mC:\\ProgramData\\Anaconda3\\lib\\site-packages\\openpyxl\\cell\\cell.py\u001b[0m in \u001b[0;36mvalue\u001b[1;34m(self, value)\u001b[0m\n\u001b[0;32m    213\u001b[0m     \u001b[1;32mdef\u001b[0m \u001b[0mvalue\u001b[0m\u001b[1;33m(\u001b[0m\u001b[0mself\u001b[0m\u001b[1;33m,\u001b[0m \u001b[0mvalue\u001b[0m\u001b[1;33m)\u001b[0m\u001b[1;33m:\u001b[0m\u001b[1;33m\u001b[0m\u001b[1;33m\u001b[0m\u001b[0m\n\u001b[0;32m    214\u001b[0m         \u001b[1;34m\"\"\"Set the value and infer type and display options.\"\"\"\u001b[0m\u001b[1;33m\u001b[0m\u001b[1;33m\u001b[0m\u001b[0m\n\u001b[1;32m--> 215\u001b[1;33m         \u001b[0mself\u001b[0m\u001b[1;33m.\u001b[0m\u001b[0m_bind_value\u001b[0m\u001b[1;33m(\u001b[0m\u001b[0mvalue\u001b[0m\u001b[1;33m)\u001b[0m\u001b[1;33m\u001b[0m\u001b[1;33m\u001b[0m\u001b[0m\n\u001b[0m\u001b[0;32m    216\u001b[0m \u001b[1;33m\u001b[0m\u001b[0m\n\u001b[0;32m    217\u001b[0m     \u001b[1;33m@\u001b[0m\u001b[0mproperty\u001b[0m\u001b[1;33m\u001b[0m\u001b[1;33m\u001b[0m\u001b[0m\n",
      "\u001b[1;32mC:\\ProgramData\\Anaconda3\\lib\\site-packages\\openpyxl\\cell\\cell.py\u001b[0m in \u001b[0;36m_bind_value\u001b[1;34m(self, value)\u001b[0m\n\u001b[0;32m    182\u001b[0m \u001b[1;33m\u001b[0m\u001b[0m\n\u001b[0;32m    183\u001b[0m         \u001b[1;32mif\u001b[0m \u001b[0mdt\u001b[0m \u001b[1;32mis\u001b[0m \u001b[1;32mNone\u001b[0m \u001b[1;32mand\u001b[0m \u001b[0mvalue\u001b[0m \u001b[1;32mis\u001b[0m \u001b[1;32mnot\u001b[0m \u001b[1;32mNone\u001b[0m\u001b[1;33m:\u001b[0m\u001b[1;33m\u001b[0m\u001b[1;33m\u001b[0m\u001b[0m\n\u001b[1;32m--> 184\u001b[1;33m             \u001b[1;32mraise\u001b[0m \u001b[0mValueError\u001b[0m\u001b[1;33m(\u001b[0m\u001b[1;34m\"Cannot convert {0!r} to Excel\"\u001b[0m\u001b[1;33m.\u001b[0m\u001b[0mformat\u001b[0m\u001b[1;33m(\u001b[0m\u001b[0mvalue\u001b[0m\u001b[1;33m)\u001b[0m\u001b[1;33m)\u001b[0m\u001b[1;33m\u001b[0m\u001b[1;33m\u001b[0m\u001b[0m\n\u001b[0m\u001b[0;32m    185\u001b[0m \u001b[1;33m\u001b[0m\u001b[0m\n\u001b[0;32m    186\u001b[0m         \u001b[1;32mif\u001b[0m \u001b[0mdt\u001b[0m\u001b[1;33m:\u001b[0m\u001b[1;33m\u001b[0m\u001b[1;33m\u001b[0m\u001b[0m\n",
      "\u001b[1;31mValueError\u001b[0m: Cannot convert [] to Excel"
     ]
    }
   ],
   "source": [
    "sheet.append([job_title, company_name, location, links])\n",
    "excel.save('Data Science Jobs on Naukri.xlsx')\n",
    "export(excel.save)\n"
   ]
  }
 ],
 "metadata": {
  "kernelspec": {
   "display_name": "Python 3 (ipykernel)",
   "language": "python",
   "name": "python3"
  },
  "language_info": {
   "codemirror_mode": {
    "name": "ipython",
    "version": 3
   },
   "file_extension": ".py",
   "mimetype": "text/x-python",
   "name": "python",
   "nbconvert_exporter": "python",
   "pygments_lexer": "ipython3",
   "version": "3.9.7"
  }
 },
 "nbformat": 4,
 "nbformat_minor": 5
}
